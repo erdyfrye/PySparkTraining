{
 "cells": [
  {
   "cell_type": "code",
   "execution_count": 1,
   "metadata": {
    "colab": {
     "base_uri": "https://localhost:8080/"
    },
    "id": "rCioAUyySxRz",
    "outputId": "7da489b3-5829-4bbb-c726-0efeeda04591"
   },
   "outputs": [
    {
     "name": "stdout",
     "output_type": "stream",
     "text": [
      "Mounted at /content/drive\n"
     ]
    }
   ],
   "source": [
    "from google.colab import drive\n",
    "drive.mount('/content/drive')"
   ]
  },
  {
   "cell_type": "code",
   "execution_count": 3,
   "metadata": {
    "colab": {
     "base_uri": "https://localhost:8080/"
    },
    "id": "S2M5n3zgUNfC",
    "outputId": "1917fe7b-a62c-4609-a2ac-267e9f873595"
   },
   "outputs": [
    {
     "name": "stdout",
     "output_type": "stream",
     "text": [
      "MyDrive  Shareddrives\n"
     ]
    }
   ],
   "source": [
    "!ls drive"
   ]
  },
  {
   "cell_type": "code",
   "execution_count": 5,
   "metadata": {
    "colab": {
     "base_uri": "https://localhost:8080/"
    },
    "id": "L_59FEnzVyuX",
    "outputId": "311a680a-64f6-4ef7-8009-9a5ebcdfb0de"
   },
   "outputs": [
    {
     "name": "stdout",
     "output_type": "stream",
     "text": [
      "/content\n"
     ]
    }
   ],
   "source": [
    "!pwd"
   ]
  },
  {
   "cell_type": "markdown",
   "metadata": {
    "id": "anx4GqLeYKHj"
   },
   "source": [
    "## Instalasi Java, Spark and findspark"
   ]
  },
  {
   "cell_type": "code",
   "execution_count": 4,
   "metadata": {
    "id": "TJE8JglnUkEj"
   },
   "outputs": [],
   "source": [
    "!apt-get install openjdk-8-jdk-headless -qq > /dev/null"
   ]
  },
  {
   "cell_type": "code",
   "execution_count": 6,
   "metadata": {
    "id": "fs5CQcyYVJw8"
   },
   "outputs": [],
   "source": [
    "!wget -q https://dlcdn.apache.org/spark/spark-3.1.2/spark-3.1.2-bin-hadoop3.2.tgz"
   ]
  },
  {
   "cell_type": "code",
   "execution_count": 7,
   "metadata": {
    "colab": {
     "base_uri": "https://localhost:8080/"
    },
    "id": "Ga5ZmeYsWAiO",
    "outputId": "c4da1ea0-5a6e-46ce-b983-008419706681"
   },
   "outputs": [
    {
     "name": "stdout",
     "output_type": "stream",
     "text": [
      "drive  sample_data  spark-3.1.2-bin-hadoop3.2.tgz\n"
     ]
    }
   ],
   "source": [
    "!ls"
   ]
  },
  {
   "cell_type": "code",
   "execution_count": 8,
   "metadata": {
    "id": "FZT0xUVuWCHL"
   },
   "outputs": [],
   "source": [
    "!tar xf spark-3.1.2-bin-hadoop3.2.tgz"
   ]
  },
  {
   "cell_type": "code",
   "execution_count": 9,
   "metadata": {
    "colab": {
     "base_uri": "https://localhost:8080/"
    },
    "id": "3uJoge6oWXkk",
    "outputId": "d5e983be-a0d9-4a9b-91a2-64173597a1ec"
   },
   "outputs": [
    {
     "name": "stdout",
     "output_type": "stream",
     "text": [
      "drive  sample_data  spark-3.1.2-bin-hadoop3.2  spark-3.1.2-bin-hadoop3.2.tgz\n"
     ]
    }
   ],
   "source": [
    "!ls"
   ]
  },
  {
   "cell_type": "code",
   "execution_count": 10,
   "metadata": {
    "id": "yQSeERzQWck5"
   },
   "outputs": [],
   "source": [
    "!pip install -q findspark"
   ]
  },
  {
   "cell_type": "code",
   "execution_count": 13,
   "metadata": {
    "id": "-FCg83tZW3A4"
   },
   "outputs": [],
   "source": [
    "import os\n",
    "os.environ[\"JAVA_HOME\"] = \"/usr/lib/jvm/java-8-openjdk-amd64\"\n",
    "os.environ[\"SPARK_HOME\"] = \"\"/content/spark-3.1.2-bin-hadoop3.2"
   ]
  },
  {
   "cell_type": "code",
   "execution_count": 15,
   "metadata": {
    "colab": {
     "base_uri": "https://localhost:8080/",
     "height": 35
    },
    "id": "3KC5TzidXTtT",
    "outputId": "1faef7f1-3145-4fbb-ba4a-9c948298a008"
   },
   "outputs": [
    {
     "data": {
      "application/vnd.google.colaboratory.intrinsic+json": {
       "type": "string"
      },
      "text/plain": [
       "'/content/spark-3.1.2-bin-hadoop3.2'"
      ]
     },
     "execution_count": 15,
     "metadata": {},
     "output_type": "execute_result"
    }
   ],
   "source": [
    "os.environ[\"SPARK_HOME\"]"
   ]
  },
  {
   "cell_type": "code",
   "execution_count": 16,
   "metadata": {
    "id": "nl0WKi-CXn0V"
   },
   "outputs": [],
   "source": [
    "import findspark\n",
    "findspark.init()"
   ]
  },
  {
   "cell_type": "code",
   "execution_count": 17,
   "metadata": {
    "colab": {
     "base_uri": "https://localhost:8080/",
     "height": 35
    },
    "id": "JDge4waJXwN_",
    "outputId": "299540ac-8e0c-497d-d91a-ba4ac428a25f"
   },
   "outputs": [
    {
     "data": {
      "application/vnd.google.colaboratory.intrinsic+json": {
       "type": "string"
      },
      "text/plain": [
       "'/content/spark-3.1.2-bin-hadoop3.2'"
      ]
     },
     "execution_count": 17,
     "metadata": {},
     "output_type": "execute_result"
    }
   ],
   "source": [
    "findspark.find()"
   ]
  },
  {
   "cell_type": "markdown",
   "metadata": {
    "id": "1_FZGIC9Yf34"
   },
   "source": [
    "## Hands-On with Spark"
   ]
  },
  {
   "cell_type": "code",
   "execution_count": 18,
   "metadata": {
    "id": "6vZDfY-oXzAw"
   },
   "outputs": [],
   "source": [
    "from pyspark.sql import SparkSession\n",
    "\n",
    "spark = SparkSession.builder\\\n",
    "        .master(\"local\")\\\n",
    "        .appName(\"firstSpark\")\\\n",
    "        .config('spark.ui.port', '4050')\\\n",
    "        .getOrCreate()"
   ]
  },
  {
   "cell_type": "code",
   "execution_count": 20,
   "metadata": {
    "colab": {
     "base_uri": "https://localhost:8080/"
    },
    "id": "sG9l0LhiYnUQ",
    "outputId": "bdaf9980-93fd-4006-a705-e06735bee349"
   },
   "outputs": [
    {
     "name": "stdout",
     "output_type": "stream",
     "text": [
      "--2021-08-27 02:18:30--  https://raw.githubusercontent.com/GarvitArya/pyspark-demo/main/sample_books.json\n",
      "Resolving raw.githubusercontent.com (raw.githubusercontent.com)... 185.199.108.133, 185.199.109.133, 185.199.110.133, ...\n",
      "Connecting to raw.githubusercontent.com (raw.githubusercontent.com)|185.199.108.133|:443... connected.\n",
      "HTTP request sent, awaiting response... 200 OK\n",
      "Length: 1565 (1.5K) [text/plain]\n",
      "Saving to: ‘/tmp/sample_books.json’\n",
      "\n",
      "\r",
      "/tmp/sample_books.j   0%[                    ]       0  --.-KB/s               \r",
      "/tmp/sample_books.j 100%[===================>]   1.53K  --.-KB/s    in 0s      \n",
      "\n",
      "2021-08-27 02:18:30 (19.5 MB/s) - ‘/tmp/sample_books.json’ saved [1565/1565]\n",
      "\n"
     ]
    }
   ],
   "source": [
    "!wget --continue https://raw.githubusercontent.com/GarvitArya/pyspark-demo/main/sample_books.json -O /tmp/sample_books.json"
   ]
  },
  {
   "cell_type": "code",
   "execution_count": 24,
   "metadata": {
    "colab": {
     "base_uri": "https://localhost:8080/"
    },
    "id": "X3z4SOqFZewE",
    "outputId": "44ccc00e-459a-477f-9c74-70fabfba9f72"
   },
   "outputs": [
    {
     "name": "stdout",
     "output_type": "stream",
     "text": [
      "sample_books.json\n"
     ]
    }
   ],
   "source": [
    "!ls /tmp | grep book"
   ]
  },
  {
   "cell_type": "code",
   "execution_count": 25,
   "metadata": {
    "id": "8N2SqzStZuRd"
   },
   "outputs": [],
   "source": [
    "df = spark.read.json(\"/tmp/sample_books.json\")"
   ]
  },
  {
   "cell_type": "code",
   "execution_count": 28,
   "metadata": {
    "colab": {
     "base_uri": "https://localhost:8080/"
    },
    "id": "P2cukywVaKf8",
    "outputId": "38561622-a71a-4c5d-85a4-e2e275a0d120"
   },
   "outputs": [
    {
     "name": "stdout",
     "output_type": "stream",
     "text": [
      "+------------+-------+-----+----------------+------------+\n",
      "|      author|edition|price|           title|year_written|\n",
      "+------------+-------+-----+----------------+------------+\n",
      "|Austen, Jane|Penguin| 18.2|Northanger Abbey|        1814|\n",
      "|Tolstoy, Leo|Penguin| 12.7|   War and Peace|        1865|\n",
      "+------------+-------+-----+----------------+------------+\n",
      "only showing top 2 rows\n",
      "\n"
     ]
    }
   ],
   "source": [
    "df.show(2)"
   ]
  },
  {
   "cell_type": "code",
   "execution_count": 29,
   "metadata": {
    "colab": {
     "base_uri": "https://localhost:8080/"
    },
    "id": "_57Z1gXEaWJM",
    "outputId": "cda8f7e2-fb10-42c0-9e4e-cfc483c8a3ac"
   },
   "outputs": [
    {
     "name": "stdout",
     "output_type": "stream",
     "text": [
      "root\n",
      " |-- author: string (nullable = true)\n",
      " |-- edition: string (nullable = true)\n",
      " |-- price: double (nullable = true)\n",
      " |-- title: string (nullable = true)\n",
      " |-- year_written: long (nullable = true)\n",
      "\n"
     ]
    }
   ],
   "source": [
    "df.printSchema()"
   ]
  },
  {
   "cell_type": "code",
   "execution_count": 31,
   "metadata": {
    "colab": {
     "base_uri": "https://localhost:8080/"
    },
    "id": "1wyhIEz3afPp",
    "outputId": "e8654f0b-daf5-4ebc-e68c-9a234c30bdad"
   },
   "outputs": [
    {
     "data": {
      "text/plain": [
       "13"
      ]
     },
     "execution_count": 31,
     "metadata": {},
     "output_type": "execute_result"
    }
   ],
   "source": [
    "# melihat jumlah baris\n",
    "df.count()"
   ]
  },
  {
   "cell_type": "code",
   "execution_count": 32,
   "metadata": {
    "colab": {
     "base_uri": "https://localhost:8080/"
    },
    "id": "Zjb7aSD3az08",
    "outputId": "c947d8d7-2027-4f72-d334-a67908150316"
   },
   "outputs": [
    {
     "name": "stdout",
     "output_type": "stream",
     "text": [
      "+----------------+-----+------------+\n",
      "|           title|price|year_written|\n",
      "+----------------+-----+------------+\n",
      "|Northanger Abbey| 18.2|        1814|\n",
      "|   War and Peace| 12.7|        1865|\n",
      "|   Anna Karenina| 13.5|        1875|\n",
      "|   Mrs. Dalloway| 25.0|        1925|\n",
      "|       The Hours|12.35|        1999|\n",
      "+----------------+-----+------------+\n",
      "only showing top 5 rows\n",
      "\n"
     ]
    }
   ],
   "source": [
    "df.select(\"title\", \"price\", \"year_written\").show(5)"
   ]
  },
  {
   "cell_type": "code",
   "execution_count": 33,
   "metadata": {
    "colab": {
     "base_uri": "https://localhost:8080/"
    },
    "id": "ocFok4ykbDBg",
    "outputId": "fb92e23c-f29f-4427-f4ed-35572ddebfd8"
   },
   "outputs": [
    {
     "name": "stdout",
     "output_type": "stream",
     "text": [
      "+-----------------------------+-----+------------+\n",
      "|title                        |price|year_written|\n",
      "+-----------------------------+-----+------------+\n",
      "|The Hours                    |12.35|1999        |\n",
      "|Harry Potter                 |19.95|2000        |\n",
      "|One Hundred Years of Solitude|14.0 |1967        |\n",
      "+-----------------------------+-----+------------+\n",
      "\n"
     ]
    }
   ],
   "source": [
    "df_filtered = df.filter(\"year_written > 1950 AND price > 10 AND title IS NOT NULL\")\n",
    "df_filtered.select(\"title\", \"price\", \"year_written\").show(50, False)"
   ]
  },
  {
   "cell_type": "markdown",
   "metadata": {
    "id": "-LPXc24DcUyB"
   },
   "source": [
    "## Spark SQL"
   ]
  },
  {
   "cell_type": "code",
   "execution_count": 34,
   "metadata": {
    "id": "km4lR1ZUbL9w"
   },
   "outputs": [],
   "source": [
    "df.createOrReplaceTempView('books')"
   ]
  },
  {
   "cell_type": "code",
   "execution_count": 36,
   "metadata": {
    "colab": {
     "base_uri": "https://localhost:8080/"
    },
    "id": "MKMir0fFceMf",
    "outputId": "9f22c7a7-753b-47b0-a787-400fb6cf7fcc"
   },
   "outputs": [
    {
     "name": "stdout",
     "output_type": "stream",
     "text": [
      "+--------------------+-----------------+-----+--------------------+------------+\n",
      "|              author|          edition|price|               title|year_written|\n",
      "+--------------------+-----------------+-----+--------------------+------------+\n",
      "|        Austen, Jane|          Penguin| 18.2|    Northanger Abbey|        1814|\n",
      "|        Tolstoy, Leo|          Penguin| 12.7|       War and Peace|        1865|\n",
      "|        Tolstoy, Leo|          Penguin| 13.5|       Anna Karenina|        1875|\n",
      "|     Woolf, Virginia|   Harcourt Brace| 25.0|       Mrs. Dalloway|        1925|\n",
      "|Cunnningham, Michael|   Harcourt Brace|12.35|           The Hours|        1999|\n",
      "|         Twain, Mark|          Penguin| 5.76|    Huckleberry Finn|        1865|\n",
      "|    Dickens, Charles|     Random House| 5.75|         Bleak House|        1870|\n",
      "|         Twain, Mark|     Random House| 7.75|          Tom Sawyer|        1862|\n",
      "|     Woolf, Virginia|          Penguin| 29.0| A Room of One's Own|        1922|\n",
      "|       Rowling, J.K.|   Harcourt Brace|19.95|        Harry Potter|        2000|\n",
      "|             Marquez|Harper  Perennial| 14.0|One Hundred Years...|        1967|\n",
      "|         Shakespeare| Signet  Classics| 7.95|Hamlet, Prince of...|        1603|\n",
      "|       Tolkien, J.R.|          Penguin|27.45|   Lord of the Rings|        1937|\n",
      "+--------------------+-----------------+-----+--------------------+------------+\n",
      "\n"
     ]
    }
   ],
   "source": [
    "spark.sql(\"select * from books\").show()"
   ]
  },
  {
   "cell_type": "code",
   "execution_count": 38,
   "metadata": {
    "colab": {
     "base_uri": "https://localhost:8080/"
    },
    "id": "aA7rE_jichiF",
    "outputId": "94d9c9b1-a953-41f3-8b91-7e0eb8af827b"
   },
   "outputs": [
    {
     "name": "stdout",
     "output_type": "stream",
     "text": [
      "+---------------+-------+-----+\n",
      "|         author|edition|price|\n",
      "+---------------+-------+-----+\n",
      "|   Austen, Jane|Penguin| 18.2|\n",
      "|   Tolstoy, Leo|Penguin| 12.7|\n",
      "|   Tolstoy, Leo|Penguin| 13.5|\n",
      "|    Twain, Mark|Penguin| 5.76|\n",
      "|Woolf, Virginia|Penguin| 29.0|\n",
      "|  Tolkien, J.R.|Penguin|27.45|\n",
      "+---------------+-------+-----+\n",
      "\n"
     ]
    }
   ],
   "source": [
    "spark.sql(\"select author, edition, price from books where edition='Penguin'\").show()"
   ]
  },
  {
   "cell_type": "code",
   "execution_count": 39,
   "metadata": {
    "colab": {
     "base_uri": "https://localhost:8080/"
    },
    "id": "z_v0_KgMc0g0",
    "outputId": "4c848e89-2d4f-4475-a240-12055f62a2c9"
   },
   "outputs": [
    {
     "name": "stdout",
     "output_type": "stream",
     "text": [
      "+-----------------+--------+\n",
      "|          edition|count(1)|\n",
      "+-----------------+--------+\n",
      "| Signet  Classics|       1|\n",
      "|Harper  Perennial|       1|\n",
      "|     Random House|       2|\n",
      "|   Harcourt Brace|       3|\n",
      "|          Penguin|       6|\n",
      "+-----------------+--------+\n",
      "\n"
     ]
    }
   ],
   "source": [
    "spark.sql(\"select edition, count(*) from books group by edition\").show()"
   ]
  }
 ],
 "metadata": {
  "colab": {
   "name": "mySpark.ipynb",
   "provenance": []
  },
  "kernelspec": {
   "display_name": "Python 3",
   "language": "python",
   "name": "python3"
  },
  "language_info": {
   "codemirror_mode": {
    "name": "ipython",
    "version": 3
   },
   "file_extension": ".py",
   "mimetype": "text/x-python",
   "name": "python",
   "nbconvert_exporter": "python",
   "pygments_lexer": "ipython3",
   "version": "3.8.8"
  }
 },
 "nbformat": 4,
 "nbformat_minor": 1
}
